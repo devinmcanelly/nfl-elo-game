{
 "cells": [
  {
   "cell_type": "code",
   "execution_count": null,
   "id": "fcbc773e",
   "metadata": {},
   "outputs": [],
   "source": [
    "from util import *\n",
    "from forecast import *\n",
    "\n",
    "# Read historical games from CSV\n",
    "games = Util.read_games(\"data/nfl_games.csv\")\n",
    "\n",
    "# Forecast every game\n",
    "Forecast.forecast(games)\n",
    "\n",
    "# Evaluate our forecasts against Elo\n",
    "Util.evaluate_forecasts(games)\n"
   ]
  },
  {
   "cell_type": "code",
   "execution_count": null,
   "id": "25ae4828",
   "metadata": {},
   "outputs": [],
   "source": []
  }
 ],
 "metadata": {
  "kernelspec": {
   "display_name": "Python 3 (ipykernel)",
   "language": "python",
   "name": "python3"
  },
  "language_info": {
   "codemirror_mode": {
    "name": "ipython",
    "version": 3
   },
   "file_extension": ".py",
   "mimetype": "text/x-python",
   "name": "python",
   "nbconvert_exporter": "python",
   "pygments_lexer": "ipython3",
   "version": "3.10.9"
  }
 },
 "nbformat": 4,
 "nbformat_minor": 5
}
