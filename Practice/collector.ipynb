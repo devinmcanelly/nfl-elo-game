{
 "cells": [
  {
   "cell_type": "code",
   "execution_count": null,
   "metadata": {},
   "outputs": [],
   "source": [
    "# Import function\n",
    "# Import libraries and scrub data for next step.\n",
    "# int_elo is ranking from 538 data scientists. It's a baseline model and should be easy to beat.\n",
    "# git pull updates scores after every game.\n",
    "\n",
    "\n",
    "import csv\n",
    "import pandas as pd\n",
    "import matplotlib.pyplot as plt \n",
    "import numpy as np\n",
    "\n",
    "init_elo = pd.read_csv(\"../data/initial_elos.csv\")\n",
    "sorted_elo = init_elo.sort_values(by=\"elo\", ascending=False)"
   ]
  },
  {
   "cell_type": "code",
   "execution_count": null,
   "metadata": {},
   "outputs": [],
   "source": [
    "# Playground\n",
    "for index, row in sorted_elo.iterrows():\n",
    "    print(f\"Row {index}:\")\n",
    "    # print(row)\n"
   ]
  },
  {
   "cell_type": "code",
   "execution_count": null,
   "metadata": {},
   "outputs": [],
   "source": [
    "elo = sorted_elo.values\n",
    "# sort and trim old teams\n",
    "for r in elo:\n",
    "    x = elo[0:34, 0]\n",
    "    y = elo[0:34, 1]\n",
    "plt.scatter(x,y)\n",
    "# plt.axis.set(xlim=(0, 20), ylim=(1200, 1600))\n",
    "plt.show()"
   ]
  },
  {
   "cell_type": "code",
   "execution_count": null,
   "metadata": {},
   "outputs": [],
   "source": []
  }
 ],
 "metadata": {
  "kernelspec": {
   "display_name": "Python 3 (ipykernel)",
   "language": "python",
   "name": "python3"
  },
  "language_info": {
   "codemirror_mode": {
    "name": "ipython",
    "version": 3
   },
   "file_extension": ".py",
   "mimetype": "text/x-python",
   "name": "python",
   "nbconvert_exporter": "python",
   "pygments_lexer": "ipython3",
   "version": "3.10.9"
  }
 },
 "nbformat": 4,
 "nbformat_minor": 2
}
